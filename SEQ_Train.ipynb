{
 "cells": [
  {
   "cell_type": "code",
   "execution_count": 3,
   "metadata": {},
   "outputs": [
    {
     "name": "stdout",
     "output_type": "stream",
     "text": [
      "This is Rock Paper Scisor model\n"
     ]
    }
   ],
   "source": [
    "print(\"This is Rock Paper Scisor model\")"
   ]
  },
  {
   "cell_type": "markdown",
   "metadata": {},
   "source": [
    "# Importing Libraries and extract the zip file"
   ]
  },
  {
   "cell_type": "code",
   "execution_count": 7,
   "metadata": {},
   "outputs": [],
   "source": [
    "import os\n",
    "import zipfile\n",
    "import re\n",
    "\"\"\n",
    "local_zip = r\"C:\\Users\\Sunshine\\Downloads\\Compressed\\rock-paper-sci dataset\\rps.zip\"\n",
    "zip_ref = zipfile.ZipFile(local_zip)\n",
    "zip_ref.extractall(r\"C:\\Users\\Sunshine\\Downloads\\Compressed\\rock-paper-sci dataset\")\n",
    "zip_ref.close()\n",
    "\n",
    "local_zip = r\"C:\\Users\\Sunshine\\Downloads\\Compressed\\rock-paper-sci dataset\\rps-test-set.zip\"\n",
    "zip_ref = zipfile.ZipFile(local_zip)\n",
    "zip_ref.extractall(r\"C:\\Users\\Sunshine\\Downloads\\Compressed\\rock-paper-sci dataset\")\n",
    "zip_ref.close()"
   ]
  },
  {
   "cell_type": "code",
   "execution_count": 2,
   "metadata": {},
   "outputs": [],
   "source": [
    "import os\n",
    "rock_dir = os.path.join(r\"C:\\Users\\asus\\doc github\\handtracking\\rps\\train\\rock\")\n",
    "paper_dir = os.path.join(r\"C:\\Users\\asus\\doc github\\handtracking\\rps\\train\\paper\")\n",
    "sci_dir = os.path.join(r\"C:\\Users\\asus\\doc github\\handtracking\\rps\\train\\scissors\")"
   ]
  },
  {
   "cell_type": "markdown",
   "metadata": {},
   "source": [
    "# Total Images of rock paper and scissors"
   ]
  },
  {
   "cell_type": "code",
   "execution_count": 3,
   "metadata": {},
   "outputs": [
    {
     "name": "stdout",
     "output_type": "stream",
     "text": [
      "Paper images 840\n",
      "Rock images 840\n",
      "Scissors images 840\n"
     ]
    }
   ],
   "source": [
    "print(\"Paper images\", len(os.listdir(paper_dir)))\n",
    "print(\"Rock images\", len(os.listdir(rock_dir)))\n",
    "print(\"Scissors images\", len(os.listdir(sci_dir)))"
   ]
  },
  {
   "cell_type": "code",
   "execution_count": 4,
   "metadata": {},
   "outputs": [],
   "source": [
    "import keras"
   ]
  },
  {
   "cell_type": "code",
   "execution_count": 5,
   "metadata": {},
   "outputs": [],
   "source": [
    "import keras_preprocessing\n",
    "from keras_preprocessing import image\n",
    "from keras_preprocessing.image import ImageDataGenerator"
   ]
  },
  {
   "cell_type": "code",
   "execution_count": 6,
   "metadata": {},
   "outputs": [],
   "source": [
    "training_dir = r\"C:\\Users\\asus\\doc github\\handtracking\\rps\\train\""
   ]
  },
  {
   "cell_type": "code",
   "execution_count": 7,
   "metadata": {},
   "outputs": [],
   "source": [
    "training_datagen = ImageDataGenerator(\n",
    "      rescale = 1./255,\n",
    "      rotation_range=40,\n",
    "      width_shift_range=0.2,\n",
    "      height_shift_range=0.2,\n",
    "      shear_range=0.2,\n",
    "      zoom_range=0.2,\n",
    "      horizontal_flip=True,\n",
    "      fill_mode='nearest')"
   ]
  },
  {
   "cell_type": "code",
   "execution_count": 8,
   "metadata": {},
   "outputs": [],
   "source": [
    "validation_dir = r\"C:\\Users\\asus\\doc github\\handtracking\\rps\\valid\""
   ]
  },
  {
   "cell_type": "code",
   "execution_count": 9,
   "metadata": {},
   "outputs": [],
   "source": [
    "validation_datagen = ImageDataGenerator(rescale = 1./255)"
   ]
  },
  {
   "cell_type": "code",
   "execution_count": 10,
   "metadata": {},
   "outputs": [
    {
     "name": "stdout",
     "output_type": "stream",
     "text": [
      "Found 2520 images belonging to 3 classes.\n"
     ]
    }
   ],
   "source": [
    "train_generator = training_datagen.flow_from_directory(\n",
    "                     training_dir, \n",
    "                    target_size = (150, 150),\n",
    "                    class_mode = \"categorical\",\n",
    "                    batch_size = 126)"
   ]
  },
  {
   "cell_type": "code",
   "execution_count": 11,
   "metadata": {},
   "outputs": [
    {
     "name": "stdout",
     "output_type": "stream",
     "text": [
      "Found 372 images belonging to 3 classes.\n"
     ]
    }
   ],
   "source": [
    "validation_generator = validation_datagen.flow_from_directory(\n",
    "                        validation_dir,\n",
    "                        target_size = (150, 150),\n",
    "                        class_mode = \"categorical\",\n",
    "                        batch_size = 126)"
   ]
  },
  {
   "cell_type": "markdown",
   "metadata": {},
   "source": [
    "# Making model"
   ]
  },
  {
   "cell_type": "code",
   "execution_count": 12,
   "metadata": {},
   "outputs": [],
   "source": [
    "model = keras.Sequential([\n",
    "    keras.layers.Conv2D(64, (3,3), activation = \"relu\", input_shape = (150, 150, 3)),\n",
    "    keras.layers.MaxPooling2D(2,2),\n",
    "    \n",
    "    keras.layers.Conv2D(64, (3,3), activation = \"relu\"),\n",
    "    keras.layers.MaxPooling2D(2,2),\n",
    "    \n",
    "    keras.layers.Conv2D(128, (3,3), activation = \"relu\"),\n",
    "    keras.layers.MaxPooling2D(2,2),\n",
    "    \n",
    "    keras.layers.Conv2D(128, (3,3), activation = \"relu\"),\n",
    "    keras.layers.MaxPooling2D(2,2),\n",
    "    \n",
    "    keras.layers.Flatten(),\n",
    "    keras.layers.Dense(256, activation = \"relu\"),\n",
    "    keras.layers.Dense(3, activation = \"softmax\")\n",
    "    \n",
    "])"
   ]
  },
  {
   "cell_type": "code",
   "execution_count": 13,
   "metadata": {},
   "outputs": [
    {
     "name": "stdout",
     "output_type": "stream",
     "text": [
      "Model: \"sequential\"\n",
      "_________________________________________________________________\n",
      " Layer (type)                Output Shape              Param #   \n",
      "=================================================================\n",
      " conv2d (Conv2D)             (None, 148, 148, 64)      1792      \n",
      "                                                                 \n",
      " max_pooling2d (MaxPooling2  (None, 74, 74, 64)        0         \n",
      " D)                                                              \n",
      "                                                                 \n",
      " conv2d_1 (Conv2D)           (None, 72, 72, 64)        36928     \n",
      "                                                                 \n",
      " max_pooling2d_1 (MaxPoolin  (None, 36, 36, 64)        0         \n",
      " g2D)                                                            \n",
      "                                                                 \n",
      " conv2d_2 (Conv2D)           (None, 34, 34, 128)       73856     \n",
      "                                                                 \n",
      " max_pooling2d_2 (MaxPoolin  (None, 17, 17, 128)       0         \n",
      " g2D)                                                            \n",
      "                                                                 \n",
      " conv2d_3 (Conv2D)           (None, 15, 15, 128)       147584    \n",
      "                                                                 \n",
      " max_pooling2d_3 (MaxPoolin  (None, 7, 7, 128)         0         \n",
      " g2D)                                                            \n",
      "                                                                 \n",
      " flatten (Flatten)           (None, 6272)              0         \n",
      "                                                                 \n",
      " dense (Dense)               (None, 256)               1605888   \n",
      "                                                                 \n",
      " dense_1 (Dense)             (None, 3)                 771       \n",
      "                                                                 \n",
      "=================================================================\n",
      "Total params: 1866819 (7.12 MB)\n",
      "Trainable params: 1866819 (7.12 MB)\n",
      "Non-trainable params: 0 (0.00 Byte)\n",
      "_________________________________________________________________\n"
     ]
    }
   ],
   "source": [
    "model.summary()"
   ]
  },
  {
   "cell_type": "code",
   "execution_count": 14,
   "metadata": {},
   "outputs": [],
   "source": [
    "model.compile(optimizer = \"RMSprop\", loss = \"categorical_crossentropy\", metrics = [\"accuracy\"])"
   ]
  },
  {
   "cell_type": "code",
   "execution_count": 15,
   "metadata": {
    "scrolled": true
   },
   "outputs": [
    {
     "name": "stderr",
     "output_type": "stream",
     "text": [
      "C:\\Users\\asus\\AppData\\Local\\Temp\\ipykernel_36764\\2778396403.py:1: UserWarning: `Model.fit_generator` is deprecated and will be removed in a future version. Please use `Model.fit`, which supports generators.\n",
      "  history = model.fit_generator(train_generator,\n"
     ]
    },
    {
     "name": "stdout",
     "output_type": "stream",
     "text": [
      "Epoch 1/25\n",
      "20/20 [==============================] - 73s 4s/step - loss: 1.2319 - accuracy: 0.3468 - val_loss: 1.0905 - val_accuracy: 0.4946\n",
      "Epoch 2/25\n",
      "20/20 [==============================] - 70s 3s/step - loss: 1.1045 - accuracy: 0.3734 - val_loss: 1.0855 - val_accuracy: 0.4489\n",
      "Epoch 3/25\n",
      "20/20 [==============================] - 69s 3s/step - loss: 1.2015 - accuracy: 0.4274 - val_loss: 1.0536 - val_accuracy: 0.5968\n",
      "Epoch 4/25\n",
      "20/20 [==============================] - 70s 3s/step - loss: 1.0362 - accuracy: 0.4770 - val_loss: 0.9285 - val_accuracy: 0.3683\n",
      "Epoch 5/25\n",
      "20/20 [==============================] - 68s 3s/step - loss: 0.9770 - accuracy: 0.5206 - val_loss: 0.6229 - val_accuracy: 0.8629\n",
      "Epoch 6/25\n",
      "20/20 [==============================] - 68s 3s/step - loss: 0.8615 - accuracy: 0.6044 - val_loss: 0.4438 - val_accuracy: 0.8522\n",
      "Epoch 7/25\n",
      "20/20 [==============================] - 72s 4s/step - loss: 0.7727 - accuracy: 0.6437 - val_loss: 0.3601 - val_accuracy: 0.8387\n",
      "Epoch 8/25\n",
      "20/20 [==============================] - 61s 3s/step - loss: 0.6983 - accuracy: 0.7190 - val_loss: 0.2407 - val_accuracy: 0.9462\n",
      "Epoch 9/25\n",
      "20/20 [==============================] - 51s 3s/step - loss: 0.5305 - accuracy: 0.7802 - val_loss: 0.5590 - val_accuracy: 0.7097\n",
      "Epoch 10/25\n",
      "20/20 [==============================] - 51s 3s/step - loss: 0.4492 - accuracy: 0.8083 - val_loss: 0.2256 - val_accuracy: 0.8898\n",
      "Epoch 11/25\n",
      "20/20 [==============================] - 52s 3s/step - loss: 0.3899 - accuracy: 0.8302 - val_loss: 0.3762 - val_accuracy: 0.8253\n",
      "Epoch 12/25\n",
      "20/20 [==============================] - 51s 2s/step - loss: 0.2966 - accuracy: 0.8889 - val_loss: 0.1861 - val_accuracy: 0.9328\n",
      "Epoch 13/25\n",
      "20/20 [==============================] - 49s 2s/step - loss: 0.3094 - accuracy: 0.8821 - val_loss: 0.0746 - val_accuracy: 0.9624\n",
      "Epoch 14/25\n",
      "20/20 [==============================] - 49s 2s/step - loss: 0.2006 - accuracy: 0.9226 - val_loss: 0.0561 - val_accuracy: 0.9704\n",
      "Epoch 15/25\n",
      "20/20 [==============================] - 60s 3s/step - loss: 0.2020 - accuracy: 0.9222 - val_loss: 0.1028 - val_accuracy: 0.9570\n",
      "Epoch 16/25\n",
      "20/20 [==============================] - 54s 3s/step - loss: 0.2145 - accuracy: 0.9234 - val_loss: 0.1352 - val_accuracy: 0.9435\n",
      "Epoch 17/25\n",
      "20/20 [==============================] - 50s 2s/step - loss: 0.1288 - accuracy: 0.9528 - val_loss: 0.0721 - val_accuracy: 0.9812\n",
      "Epoch 18/25\n",
      "20/20 [==============================] - 61s 3s/step - loss: 0.2327 - accuracy: 0.9151 - val_loss: 0.0340 - val_accuracy: 0.9892\n",
      "Epoch 19/25\n",
      "20/20 [==============================] - 69s 3s/step - loss: 0.0973 - accuracy: 0.9675 - val_loss: 0.0736 - val_accuracy: 0.9543\n",
      "Epoch 20/25\n",
      "20/20 [==============================] - 66s 3s/step - loss: 0.1157 - accuracy: 0.9571 - val_loss: 0.0553 - val_accuracy: 0.9704\n",
      "Epoch 21/25\n",
      "20/20 [==============================] - 50s 2s/step - loss: 0.0870 - accuracy: 0.9714 - val_loss: 0.8806 - val_accuracy: 0.7715\n",
      "Epoch 22/25\n",
      "20/20 [==============================] - 50s 2s/step - loss: 0.1279 - accuracy: 0.9567 - val_loss: 0.0685 - val_accuracy: 0.9839\n",
      "Epoch 23/25\n",
      "20/20 [==============================] - 50s 2s/step - loss: 0.0841 - accuracy: 0.9655 - val_loss: 0.1414 - val_accuracy: 0.9355\n",
      "Epoch 24/25\n",
      "20/20 [==============================] - 47s 2s/step - loss: 0.1273 - accuracy: 0.9607 - val_loss: 0.0633 - val_accuracy: 0.9704\n",
      "Epoch 25/25\n",
      "20/20 [==============================] - 49s 2s/step - loss: 0.1617 - accuracy: 0.9429 - val_loss: 0.1209 - val_accuracy: 0.9382\n"
     ]
    },
    {
     "name": "stderr",
     "output_type": "stream",
     "text": [
      "c:\\Users\\asus\\AppData\\Local\\Programs\\Python\\Python39\\lib\\site-packages\\keras\\src\\engine\\training.py:3000: UserWarning: You are saving your model as an HDF5 file via `model.save()`. This file format is considered legacy. We recommend using instead the native Keras format, e.g. `model.save('my_model.keras')`.\n",
      "  saving_api.save_model(\n"
     ]
    }
   ],
   "source": [
    "history = model.fit_generator(train_generator, \n",
    "                             epochs = 25,\n",
    "                              steps_per_epoch=20,\n",
    "                             validation_data = validation_generator,\n",
    "                              verbose = 1, \n",
    "                              validation_steps=3)\n",
    "\n",
    "model.save(\"rps.h5\")"
   ]
  },
  {
   "cell_type": "code",
   "execution_count": 16,
   "metadata": {},
   "outputs": [
    {
     "data": {
      "image/png": "[encoded data removed]",
      "text/plain": [
       "<Figure size 640x480 with 1 Axes>"
      ]
     },
     "metadata": {},
     "output_type": "display_data"
    },
    {
     "data": {
      "text/plain": [
       "<Figure size 640x480 with 0 Axes>"
      ]
     },
     "metadata": {},
     "output_type": "display_data"
    }
   ],
   "source": [
    "import matplotlib.pyplot as plt\n",
    "acc = history.history['accuracy']\n",
    "val_acc = history.history['val_accuracy']\n",
    "loss = history.history['loss']\n",
    "val_loss = history.history['val_loss']\n",
    "\n",
    "epochs = range(len(acc))\n",
    "\n",
    "plt.plot(epochs, acc, 'r', label='Training accuracy')\n",
    "plt.plot(epochs, val_acc, 'b', label='Validation accuracy')\n",
    "plt.title('Training and validation accuracy')\n",
    "plt.legend(loc=0)\n",
    "plt.figure()\n",
    "\n",
    "\n",
    "plt.show()"
   ]
  },
  {
   "cell_type": "code",
   "execution_count": null,
   "metadata": {},
   "outputs": [],
   "source": []
  },
  {
   "cell_type": "markdown",
   "metadata": {},
   "source": [
    "# Testing on new image [[ rock, paper, scissors]]"
   ]
  },
  {
   "cell_type": "code",
   "execution_count": 33,
   "metadata": {},
   "outputs": [
    {
     "name": "stdout",
     "output_type": "stream",
     "text": [
      "[[0. 0. 1.]]\n"
     ]
    }
   ],
   "source": [
    "import numpy as np\n",
    "from keras.preprocessing import image\n",
    "path = r\"C:\\Users\\Sunshine\\Downloads\\Compressed\\rock-paper-sci dataset\\rps-test-set\\scissors\\testscissors01-02.png\"\n",
    "img = image.load_img(path, target_size=(150, 150))\n",
    "x = image.img_to_array(img)\n",
    "x = np.expand_dims(x, axis=0)\n",
    "images = np.vstack([x])\n",
    "classes = model.predict(images, batch_size=10)\n",
    "print(classes)"
   ]
  },
  {
   "cell_type": "code",
   "execution_count": null,
   "metadata": {},
   "outputs": [
    {
     "name": "stdout",
     "output_type": "stream",
     "text": [
      "Error processing the frame: 'target_size' is an invalid keyword argument for this function\n",
      "Error processing the frame: 'target_size' is an invalid keyword argument for this function\n",
      "Error processing the frame: 'target_size' is an invalid keyword argument for this function\n",
      "Error processing the frame: 'target_size' is an invalid keyword argument for this function\n",
      "Error processing the frame: 'target_size' is an invalid keyword argument for this function\n",
      "Error processing the frame: 'target_size' is an invalid keyword argument for this function\n",
      "Error processing the frame: 'target_size' is an invalid keyword argument for this function\n",
      "Error processing the frame: 'target_size' is an invalid keyword argument for this function\n",
      "Error processing the frame: 'target_size' is an invalid keyword argument for this function\n",
      "Error processing the frame: 'target_size' is an invalid keyword argument for this function\n",
      "Error processing the frame: 'target_size' is an invalid keyword argument for this function\n",
      "Error processing the frame: 'target_size' is an invalid keyword argument for this function\n",
      "Error processing the frame: 'target_size' is an invalid keyword argument for this function\n",
      "Error processing the frame: 'target_size' is an invalid keyword argument for this function\n",
      "Error processing the frame: 'target_size' is an invalid keyword argument for this function\n",
      "Error processing the frame: 'target_size' is an invalid keyword argument for this function\n",
      "Error processing the frame: 'target_size' is an invalid keyword argument for this function\n",
      "Error processing the frame: 'target_size' is an invalid keyword argument for this function\n",
      "Error processing the frame: 'target_size' is an invalid keyword argument for this function\n",
      "Error processing the frame: 'target_size' is an invalid keyword argument for this function\n",
      "Error processing the frame: 'target_size' is an invalid keyword argument for this function\n",
      "Error processing the frame: 'target_size' is an invalid keyword argument for this function\n",
      "Error processing the frame: 'target_size' is an invalid keyword argument for this function\n",
      "Error processing the frame: 'target_size' is an invalid keyword argument for this function\n",
      "Error processing the frame: 'target_size' is an invalid keyword argument for this function\n",
      "Error processing the frame: 'target_size' is an invalid keyword argument for this function\n",
      "Error processing the frame: 'target_size' is an invalid keyword argument for this function\n",
      "Error processing the frame: 'target_size' is an invalid keyword argument for this function\n",
      "Error processing the frame: 'target_size' is an invalid keyword argument for this function\n",
      "Error processing the frame: 'target_size' is an invalid keyword argument for this function\n",
      "Error processing the frame: 'target_size' is an invalid keyword argument for this function\n",
      "Error processing the frame: 'target_size' is an invalid keyword argument for this function\n",
      "Error processing the frame: 'target_size' is an invalid keyword argument for this function\n",
      "Error processing the frame: 'target_size' is an invalid keyword argument for this function\n",
      "Error processing the frame: 'target_size' is an invalid keyword argument for this function\n",
      "Error processing the frame: 'target_size' is an invalid keyword argument for this function\n",
      "Error processing the frame: 'target_size' is an invalid keyword argument for this function\n",
      "Error processing the frame: 'target_size' is an invalid keyword argument for this function\n",
      "Error processing the frame: 'target_size' is an invalid keyword argument for this function\n",
      "Error processing the frame: 'target_size' is an invalid keyword argument for this function\n",
      "Error processing the frame: 'target_size' is an invalid keyword argument for this function\n",
      "Error processing the frame: 'target_size' is an invalid keyword argument for this function\n",
      "Error processing the frame: 'target_size' is an invalid keyword argument for this function\n",
      "Error processing the frame: 'target_size' is an invalid keyword argument for this function\n",
      "Error processing the frame: 'target_size' is an invalid keyword argument for this function\n",
      "Error processing the frame: 'target_size' is an invalid keyword argument for this function\n",
      "Error processing the frame: 'target_size' is an invalid keyword argument for this function\n",
      "Error processing the frame: 'target_size' is an invalid keyword argument for this function\n",
      "Error processing the frame: 'target_size' is an invalid keyword argument for this function\n",
      "Error processing the frame: 'target_size' is an invalid keyword argument for this function\n",
      "Error processing the frame: 'target_size' is an invalid keyword argument for this function\n",
      "Error processing the frame: 'target_size' is an invalid keyword argument for this function\n",
      "Error processing the frame: 'target_size' is an invalid keyword argument for this function\n",
      "Error processing the frame: 'target_size' is an invalid keyword argument for this function\n",
      "Error processing the frame: 'target_size' is an invalid keyword argument for this function\n",
      "Error processing the frame: 'target_size' is an invalid keyword argument for this function\n",
      "Error processing the frame: 'target_size' is an invalid keyword argument for this function\n",
      "Error processing the frame: 'target_size' is an invalid keyword argument for this function\n",
      "Error processing the frame: 'target_size' is an invalid keyword argument for this function\n",
      "Error processing the frame: 'target_size' is an invalid keyword argument for this function\n",
      "Error processing the frame: 'target_size' is an invalid keyword argument for this function\n",
      "Error processing the frame: 'target_size' is an invalid keyword argument for this function\n",
      "Error processing the frame: 'target_size' is an invalid keyword argument for this function\n",
      "Error processing the frame: 'target_size' is an invalid keyword argument for this function\n",
      "Error processing the frame: 'target_size' is an invalid keyword argument for this function\n",
      "Error processing the frame: 'target_size' is an invalid keyword argument for this function\n",
      "Error processing the frame: 'target_size' is an invalid keyword argument for this function\n",
      "Error processing the frame: 'target_size' is an invalid keyword argument for this function\n",
      "Error processing the frame: 'target_size' is an invalid keyword argument for this function\n",
      "Error processing the frame: 'target_size' is an invalid keyword argument for this function\n",
      "Error processing the frame: 'target_size' is an invalid keyword argument for this function\n",
      "Error processing the frame: 'target_size' is an invalid keyword argument for this function\n",
      "Error processing the frame: 'target_size' is an invalid keyword argument for this function\n",
      "Error processing the frame: 'target_size' is an invalid keyword argument for this function\n",
      "Error processing the frame: 'target_size' is an invalid keyword argument for this function\n",
      "Error processing the frame: 'target_size' is an invalid keyword argument for this function\n",
      "Error processing the frame: 'target_size' is an invalid keyword argument for this function\n",
      "Error processing the frame: 'target_size' is an invalid keyword argument for this function\n",
      "Error processing the frame: 'target_size' is an invalid keyword argument for this function\n",
      "Error processing the frame: 'target_size' is an invalid keyword argument for this function\n",
      "Error processing the frame: 'target_size' is an invalid keyword argument for this function\n",
      "Error processing the frame: 'target_size' is an invalid keyword argument for this function\n",
      "Error processing the frame: 'target_size' is an invalid keyword argument for this function\n",
      "Error processing the frame: 'target_size' is an invalid keyword argument for this function\n",
      "Error processing the frame: 'target_size' is an invalid keyword argument for this function\n",
      "Error processing the frame: 'target_size' is an invalid keyword argument for this function\n",
      "Error processing the frame: 'target_size' is an invalid keyword argument for this function\n",
      "Error processing the frame: 'target_size' is an invalid keyword argument for this function\n",
      "Error processing the frame: 'target_size' is an invalid keyword argument for this function\n",
      "Error processing the frame: 'target_size' is an invalid keyword argument for this function\n",
      "Error processing the frame: 'target_size' is an invalid keyword argument for this function\n",
      "Error processing the frame: 'target_size' is an invalid keyword argument for this function\n",
      "Error processing the frame: 'target_size' is an invalid keyword argument for this function\n",
      "Error processing the frame: 'target_size' is an invalid keyword argument for this function\n",
      "Error processing the frame: 'target_size' is an invalid keyword argument for this function\n",
      "Error processing the frame: 'target_size' is an invalid keyword argument for this function\n",
      "Error processing the frame: 'target_size' is an invalid keyword argument for this function\n",
      "Error processing the frame: 'target_size' is an invalid keyword argument for this function\n",
      "Error processing the frame: 'target_size' is an invalid keyword argument for this function\n",
      "Error processing the frame: 'target_size' is an invalid keyword argument for this function\n",
      "Error processing the frame: 'target_size' is an invalid keyword argument for this function\n",
      "Error processing the frame: 'target_size' is an invalid keyword argument for this function\n",
      "Error processing the frame: 'target_size' is an invalid keyword argument for this function\n",
      "Error processing the frame: 'target_size' is an invalid keyword argument for this function\n",
      "Error processing the frame: 'target_size' is an invalid keyword argument for this function\n",
      "Error processing the frame: 'target_size' is an invalid keyword argument for this function\n",
      "Error processing the frame: 'target_size' is an invalid keyword argument for this function\n",
      "Error processing the frame: 'target_size' is an invalid keyword argument for this function\n",
      "Error processing the frame: 'target_size' is an invalid keyword argument for this function\n",
      "Error processing the frame: 'target_size' is an invalid keyword argument for this function\n",
      "Error processing the frame: 'target_size' is an invalid keyword argument for this function\n",
      "Error processing the frame: 'target_size' is an invalid keyword argument for this function\n",
      "Error processing the frame: 'target_size' is an invalid keyword argument for this function\n",
      "Error processing the frame: 'target_size' is an invalid keyword argument for this function\n",
      "Error processing the frame: 'target_size' is an invalid keyword argument for this function\n",
      "Error processing the frame: 'target_size' is an invalid keyword argument for this function\n",
      "Error processing the frame: 'target_size' is an invalid keyword argument for this function\n",
      "Error processing the frame: 'target_size' is an invalid keyword argument for this function\n",
      "Error processing the frame: 'target_size' is an invalid keyword argument for this function\n",
      "Error processing the frame: 'target_size' is an invalid keyword argument for this function\n",
      "Error processing the frame: 'target_size' is an invalid keyword argument for this function\n",
      "Error processing the frame: 'target_size' is an invalid keyword argument for this function\n",
      "Error processing the frame: 'target_size' is an invalid keyword argument for this function\n",
      "Error processing the frame: 'target_size' is an invalid keyword argument for this function\n",
      "Error processing the frame: 'target_size' is an invalid keyword argument for this function\n",
      "Error processing the frame: 'target_size' is an invalid keyword argument for this function\n",
      "Error processing the frame: 'target_size' is an invalid keyword argument for this function\n",
      "Error processing the frame: 'target_size' is an invalid keyword argument for this function\n",
      "Error processing the frame: 'target_size' is an invalid keyword argument for this function\n",
      "Error processing the frame: 'target_size' is an invalid keyword argument for this function\n",
      "Error processing the frame: 'target_size' is an invalid keyword argument for this function\n",
      "Error processing the frame: 'target_size' is an invalid keyword argument for this function\n",
      "Error processing the frame: 'target_size' is an invalid keyword argument for this function\n",
      "Error processing the frame: 'target_size' is an invalid keyword argument for this function\n",
      "Error processing the frame: 'target_size' is an invalid keyword argument for this function\n",
      "Error processing the frame: 'target_size' is an invalid keyword argument for this function\n",
      "Error processing the frame: 'target_size' is an invalid keyword argument for this function\n",
      "Error processing the frame: 'target_size' is an invalid keyword argument for this function\n",
      "Error processing the frame: 'target_size' is an invalid keyword argument for this function\n",
      "Error processing the frame: 'target_size' is an invalid keyword argument for this function\n",
      "Error processing the frame: 'target_size' is an invalid keyword argument for this function\n",
      "Error processing the frame: 'target_size' is an invalid keyword argument for this function\n",
      "Error processing the frame: 'target_size' is an invalid keyword argument for this function\n",
      "Error processing the frame: 'target_size' is an invalid keyword argument for this function\n",
      "Error processing the frame: 'target_size' is an invalid keyword argument for this function\n",
      "Error processing the frame: 'target_size' is an invalid keyword argument for this function\n",
      "Error processing the frame: 'target_size' is an invalid keyword argument for this function\n",
      "Error processing the frame: 'target_size' is an invalid keyword argument for this function\n",
      "Error processing the frame: 'target_size' is an invalid keyword argument for this function\n",
      "Error processing the frame: 'target_size' is an invalid keyword argument for this function\n",
      "Error processing the frame: 'target_size' is an invalid keyword argument for this function\n",
      "Error processing the frame: 'target_size' is an invalid keyword argument for this function\n",
      "Error processing the frame: 'target_size' is an invalid keyword argument for this function\n",
      "Error processing the frame: 'target_size' is an invalid keyword argument for this function\n",
      "Error processing the frame: 'target_size' is an invalid keyword argument for this function\n",
      "Error processing the frame: 'target_size' is an invalid keyword argument for this function\n",
      "Error processing the frame: 'target_size' is an invalid keyword argument for this function\n",
      "Error processing the frame: 'target_size' is an invalid keyword argument for this function\n",
      "Error processing the frame: 'target_size' is an invalid keyword argument for this function\n",
      "Error processing the frame: 'target_size' is an invalid keyword argument for this function\n",
      "Error processing the frame: 'target_size' is an invalid keyword argument for this function\n",
      "Error processing the frame: 'target_size' is an invalid keyword argument for this function\n",
      "Error processing the frame: 'target_size' is an invalid keyword argument for this function\n",
      "Error processing the frame: 'target_size' is an invalid keyword argument for this function\n",
      "Error processing the frame: 'target_size' is an invalid keyword argument for this function\n",
      "Error processing the frame: 'target_size' is an invalid keyword argument for this function\n",
      "Error processing the frame: 'target_size' is an invalid keyword argument for this function\n",
      "Error processing the frame: 'target_size' is an invalid keyword argument for this function\n",
      "Error processing the frame: 'target_size' is an invalid keyword argument for this function\n",
      "Error processing the frame: 'target_size' is an invalid keyword argument for this function\n",
      "Error processing the frame: 'target_size' is an invalid keyword argument for this function\n",
      "Error processing the frame: 'target_size' is an invalid keyword argument for this function\n",
      "Error processing the frame: 'target_size' is an invalid keyword argument for this function\n",
      "Error processing the frame: 'target_size' is an invalid keyword argument for this function\n",
      "Error processing the frame: 'target_size' is an invalid keyword argument for this function\n",
      "Error processing the frame: 'target_size' is an invalid keyword argument for this function\n",
      "Error processing the frame: 'target_size' is an invalid keyword argument for this function\n",
      "Error processing the frame: 'target_size' is an invalid keyword argument for this function\n",
      "Error processing the frame: 'target_size' is an invalid keyword argument for this function\n",
      "Error processing the frame: 'target_size' is an invalid keyword argument for this function\n",
      "Error processing the frame: 'target_size' is an invalid keyword argument for this function\n",
      "Error processing the frame: 'target_size' is an invalid keyword argument for this function\n",
      "Error processing the frame: 'target_size' is an invalid keyword argument for this function\n",
      "Error processing the frame: 'target_size' is an invalid keyword argument for this function\n",
      "Error processing the frame: 'target_size' is an invalid keyword argument for this function\n",
      "Error processing the frame: 'target_size' is an invalid keyword argument for this function\n",
      "Error processing the frame: 'target_size' is an invalid keyword argument for this function\n",
      "Error processing the frame: 'target_size' is an invalid keyword argument for this function\n",
      "Error processing the frame: 'target_size' is an invalid keyword argument for this function\n",
      "Error processing the frame: 'target_size' is an invalid keyword argument for this function\n",
      "Error processing the frame: 'target_size' is an invalid keyword argument for this function\n",
      "Error processing the frame: 'target_size' is an invalid keyword argument for this function\n",
      "Error processing the frame: 'target_size' is an invalid keyword argument for this function\n",
      "Error processing the frame: 'target_size' is an invalid keyword argument for this function\n",
      "Error processing the frame: 'target_size' is an invalid keyword argument for this function\n",
      "Error processing the frame: 'target_size' is an invalid keyword argument for this function\n",
      "Error processing the frame: 'target_size' is an invalid keyword argument for this function\n",
      "Error processing the frame: 'target_size' is an invalid keyword argument for this function\n",
      "Error processing the frame: 'target_size' is an invalid keyword argument for this function\n",
      "Error processing the frame: 'target_size' is an invalid keyword argument for this function\n",
      "Error processing the frame: 'target_size' is an invalid keyword argument for this function\n",
      "Error processing the frame: 'target_size' is an invalid keyword argument for this function\n",
      "Error processing the frame: 'target_size' is an invalid keyword argument for this function\n",
      "Error processing the frame: 'target_size' is an invalid keyword argument for this function\n",
      "Error processing the frame: 'target_size' is an invalid keyword argument for this function\n",
      "Error processing the frame: 'target_size' is an invalid keyword argument for this function\n",
      "Error processing the frame: 'target_size' is an invalid keyword argument for this function\n",
      "Error processing the frame: 'target_size' is an invalid keyword argument for this function\n",
      "Error processing the frame: 'target_size' is an invalid keyword argument for this function\n",
      "Error processing the frame: 'target_size' is an invalid keyword argument for this function\n",
      "Error processing the frame: 'target_size' is an invalid keyword argument for this function\n",
      "Error processing the frame: 'target_size' is an invalid keyword argument for this function\n",
      "Error processing the frame: 'target_size' is an invalid keyword argument for this function\n",
      "Error processing the frame: 'target_size' is an invalid keyword argument for this function\n",
      "Error processing the frame: 'target_size' is an invalid keyword argument for this function\n",
      "Error processing the frame: 'target_size' is an invalid keyword argument for this function\n",
      "Error processing the frame: 'target_size' is an invalid keyword argument for this function\n",
      "Error processing the frame: 'target_size' is an invalid keyword argument for this function\n",
      "Error processing the frame: 'target_size' is an invalid keyword argument for this function\n",
      "Error processing the frame: 'target_size' is an invalid keyword argument for this function\n",
      "Error processing the frame: 'target_size' is an invalid keyword argument for this function\n",
      "Error processing the frame: 'target_size' is an invalid keyword argument for this function\n",
      "Error processing the frame: 'target_size' is an invalid keyword argument for this function\n",
      "Error processing the frame: 'target_size' is an invalid keyword argument for this function\n",
      "Error processing the frame: 'target_size' is an invalid keyword argument for this function\n",
      "Error processing the frame: 'target_size' is an invalid keyword argument for this function\n",
      "Error processing the frame: 'target_size' is an invalid keyword argument for this function\n",
      "Error processing the frame: 'target_size' is an invalid keyword argument for this function\n",
      "Error processing the frame: 'target_size' is an invalid keyword argument for this function\n",
      "Error processing the frame: 'target_size' is an invalid keyword argument for this function\n",
      "Error processing the frame: 'target_size' is an invalid keyword argument for this function\n",
      "Error processing the frame: 'target_size' is an invalid keyword argument for this function\n",
      "Error processing the frame: 'target_size' is an invalid keyword argument for this function\n",
      "Error processing the frame: 'target_size' is an invalid keyword argument for this function\n",
      "Error processing the frame: 'target_size' is an invalid keyword argument for this function\n",
      "Error processing the frame: 'target_size' is an invalid keyword argument for this function\n",
      "Error processing the frame: 'target_size' is an invalid keyword argument for this function\n",
      "Error processing the frame: 'target_size' is an invalid keyword argument for this function\n",
      "Error processing the frame: 'target_size' is an invalid keyword argument for this function\n",
      "Error processing the frame: 'target_size' is an invalid keyword argument for this function\n",
      "Error processing the frame: 'target_size' is an invalid keyword argument for this function\n",
      "Error processing the frame: 'target_size' is an invalid keyword argument for this function\n",
      "Error processing the frame: 'target_size' is an invalid keyword argument for this function\n",
      "Error processing the frame: 'target_size' is an invalid keyword argument for this function\n",
      "Error processing the frame: 'target_size' is an invalid keyword argument for this function\n",
      "Error processing the frame: 'target_size' is an invalid keyword argument for this function\n",
      "Error processing the frame: 'target_size' is an invalid keyword argument for this function\n",
      "Error processing the frame: 'target_size' is an invalid keyword argument for this function\n",
      "Error processing the frame: 'target_size' is an invalid keyword argument for this function\n",
      "Error processing the frame: 'target_size' is an invalid keyword argument for this function\n",
      "Error processing the frame: 'target_size' is an invalid keyword argument for this function\n",
      "Error processing the frame: 'target_size' is an invalid keyword argument for this function\n",
      "Error processing the frame: 'target_size' is an invalid keyword argument for this function\n",
      "Error processing the frame: 'target_size' is an invalid keyword argument for this function\n",
      "Error processing the frame: 'target_size' is an invalid keyword argument for this function\n",
      "Error processing the frame: 'target_size' is an invalid keyword argument for this function\n",
      "Error processing the frame: 'target_size' is an invalid keyword argument for this function\n",
      "Error processing the frame: 'target_size' is an invalid keyword argument for this function\n",
      "Error processing the frame: 'target_size' is an invalid keyword argument for this function\n",
      "Error processing the frame: 'target_size' is an invalid keyword argument for this function\n",
      "Error processing the frame: 'target_size' is an invalid keyword argument for this function\n",
      "Error processing the frame: 'target_size' is an invalid keyword argument for this function\n",
      "Error processing the frame: 'target_size' is an invalid keyword argument for this function\n",
      "Error processing the frame: 'target_size' is an invalid keyword argument for this function\n",
      "Error processing the frame: 'target_size' is an invalid keyword argument for this function\n",
      "Error processing the frame: 'target_size' is an invalid keyword argument for this function\n",
      "Error processing the frame: 'target_size' is an invalid keyword argument for this function\n",
      "Error processing the frame: 'target_size' is an invalid keyword argument for this function\n",
      "Error processing the frame: 'target_size' is an invalid keyword argument for this function\n",
      "Error processing the frame: 'target_size' is an invalid keyword argument for this function\n",
      "Error processing the frame: 'target_size' is an invalid keyword argument for this function\n",
      "Error processing the frame: 'target_size' is an invalid keyword argument for this function\n",
      "Error processing the frame: 'target_size' is an invalid keyword argument for this function\n",
      "Error processing the frame: 'target_size' is an invalid keyword argument for this function\n",
      "Error processing the frame: 'target_size' is an invalid keyword argument for this function\n",
      "Error processing the frame: 'target_size' is an invalid keyword argument for this function\n",
      "Error processing the frame: 'target_size' is an invalid keyword argument for this function\n",
      "Error processing the frame: 'target_size' is an invalid keyword argument for this function\n",
      "Error processing the frame: 'target_size' is an invalid keyword argument for this function\n",
      "Error processing the frame: 'target_size' is an invalid keyword argument for this function\n",
      "Error processing the frame: 'target_size' is an invalid keyword argument for this function\n",
      "Error processing the frame: 'target_size' is an invalid keyword argument for this function\n",
      "Error processing the frame: 'target_size' is an invalid keyword argument for this function\n",
      "Error processing the frame: 'target_size' is an invalid keyword argument for this function\n",
      "Error processing the frame: 'target_size' is an invalid keyword argument for this function\n",
      "Error processing the frame: 'target_size' is an invalid keyword argument for this function\n",
      "Error processing the frame: 'target_size' is an invalid keyword argument for this function\n",
      "Error processing the frame: 'target_size' is an invalid keyword argument for this function\n",
      "Error processing the frame: 'target_size' is an invalid keyword argument for this function\n",
      "Error processing the frame: 'target_size' is an invalid keyword argument for this function\n",
      "Error processing the frame: 'target_size' is an invalid keyword argument for this function\n",
      "Error processing the frame: 'target_size' is an invalid keyword argument for this function\n",
      "Error processing the frame: 'target_size' is an invalid keyword argument for this function\n",
      "Error processing the frame: 'target_size' is an invalid keyword argument for this function\n",
      "Error processing the frame: 'target_size' is an invalid keyword argument for this function\n",
      "Error processing the frame: 'target_size' is an invalid keyword argument for this function\n",
      "Error processing the frame: 'target_size' is an invalid keyword argument for this function\n",
      "Error processing the frame: 'target_size' is an invalid keyword argument for this function\n",
      "Error processing the frame: 'target_size' is an invalid keyword argument for this function\n",
      "Error processing the frame: 'target_size' is an invalid keyword argument for this function\n"
     ]
    },
    {
     "ename": "",
     "evalue": "",
     "output_type": "error",
     "traceback": [
      "\u001b[1;31mThe Kernel crashed while executing code in the the current cell or a previous cell. Please review the code in the cell(s) to identify a possible cause of the failure. Click <a href='https://aka.ms/vscodeJupyterKernelCrash'>here</a> for more info. View Jupyter <a href='command:jupyter.viewOutput'>log</a> for further details."
     ]
    },
    {
     "ename": "",
     "evalue": "",
     "output_type": "error",
     "traceback": [
      "\u001b[1;31mThe Kernel crashed while executing code in the the current cell or a previous cell. Please review the code in the cell(s) to identify a possible cause of the failure. Click <a href='https://aka.ms/vscodeJupyterKernelCrash'>here</a> for more info. View Jupyter <a href='command:jupyter.viewOutput'>log</a> for further details."
     ]
    }
   ],
   "source": [
    "#models=YOLO(\"100.pt\")\n",
    "import numpy as np\n",
    "import cv2\n",
    "\n",
    "import numpy as np\n",
    "\n",
    "import time\n",
    "import pyautogui\n",
    "cap = cv2.VideoCapture(1)\n",
    "\n",
    "cooldown_seconds = 5\n",
    "last_slide_change_time = 0\n",
    "\n",
    "while True:\n",
    "    ret, frame = cap.read()\n",
    "    target_size = (150, 150)\n",
    "    if not ret:\n",
    "        break\n",
    "\n",
    "    try:\n",
    "        img = frame.resize(target_size)\n",
    "        #img = image.load_img(path, target_size=(150, 150))\n",
    "        x = image.img_to_array(img)\n",
    "        x = np.expand_dims(x, axis=0)\n",
    "        images = np.vstack([x])\n",
    "        predictions = model.predict(images, batch_size=10)\n",
    "        for pred in predictions:\n",
    "            x = int(pred['x'] - pred['width'] / 2)\n",
    "            y = int(pred['y'] - pred['height'] / 2)\n",
    "            w = int(pred['width'])\n",
    "            h = int(pred['height'])\n",
    "            label = pred['class']\n",
    "\n",
    "            cv2.rectangle(frame, (x, y), (x+w, y+h), (0, 255, 0), 2)\n",
    "            cv2.putText(frame, label, (x, y-10), cv2.FONT_HERSHEY_SIMPLEX, 0.5, (0, 255, 0), 2)\n",
    "\n",
    "            current_time = time.time()\n",
    "\n",
    "            if current_time - last_slide_change_time > cooldown_seconds:\n",
    "                if label == \"Rock\":\n",
    "                    pyautogui.press('right')\n",
    "                    last_slide_change_time = current_time\n",
    "                elif label == \"Paper\":\n",
    "                    pyautogui.press('left')\n",
    "                    last_slide_change_time = current_time\n",
    "                elif label == \"Scissors\":\n",
    "                    pyautogui.press('d')\n",
    "                    last_slide_change_time = current_time\n",
    "            \n",
    "            # print(current_slide_idx)\n",
    "\n",
    "            # cv2.imshow('Presentation', slides[current_slide_idx])\n",
    "\n",
    "    except Exception as e:\n",
    "        print(\"Error processing the frame:\", e)\n",
    "\n",
    "    cv2.imshow('Slide Controller', frame)\n",
    "\n",
    "    if cv2.waitKey(1) & 0xFF == ord('q'):\n",
    "        break\n",
    "\n",
    "cap.release()\n",
    "cv2.destroyAllWindows()"
   ]
  }
 ],
 "metadata": {
  "kernelspec": {
   "display_name": "Python 3",
   "language": "python",
   "name": "python3"
  },
  "language_info": {
   "codemirror_mode": {
    "name": "ipython",
    "version": 3
   },
   "file_extension": ".py",
   "mimetype": "text/x-python",
   "name": "python",
   "nbconvert_exporter": "python",
   "pygments_lexer": "ipython3",
   "version": "3.9.7"
  }
 },
 "nbformat": 4,
 "nbformat_minor": 2
}
